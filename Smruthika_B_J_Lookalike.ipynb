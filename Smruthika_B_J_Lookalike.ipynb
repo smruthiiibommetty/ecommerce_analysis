{
 "cells": [
  {
   "cell_type": "code",
   "execution_count": 1,
   "id": "fd5eca52-96b8-4f12-a907-e24658eb9b21",
   "metadata": {},
   "outputs": [
    {
     "name": "stdout",
     "output_type": "stream",
     "text": [
      "  TransactionID CustomerID ProductID      TransactionDate  Quantity  \\\n",
      "0        T00001      C0199      P067  2024-08-25 12:38:23         1   \n",
      "1        T00112      C0146      P067  2024-05-27 22:23:54         1   \n",
      "2        T00166      C0127      P067  2024-04-25 07:38:55         1   \n",
      "3        T00272      C0087      P067  2024-03-26 22:55:37         2   \n",
      "4        T00363      C0070      P067  2024-03-21 15:10:10         3   \n",
      "\n",
      "   TotalValue  Price_x     CustomerName         Region  SignupDate  \\\n",
      "0      300.68   300.68   Andrea Jenkins         Europe  2022-12-03   \n",
      "1      300.68   300.68  Brittany Harvey           Asia  2024-09-04   \n",
      "2      300.68   300.68  Kathryn Stevens         Europe  2024-04-04   \n",
      "3      601.36   300.68  Travis Campbell  South America  2024-04-11   \n",
      "4      902.04   300.68    Timothy Perez         Europe  2022-03-15   \n",
      "\n",
      "                       ProductName     Category  Price_y  \n",
      "0  ComfortLiving Bluetooth Speaker  Electronics   300.68  \n",
      "1  ComfortLiving Bluetooth Speaker  Electronics   300.68  \n",
      "2  ComfortLiving Bluetooth Speaker  Electronics   300.68  \n",
      "3  ComfortLiving Bluetooth Speaker  Electronics   300.68  \n",
      "4  ComfortLiving Bluetooth Speaker  Electronics   300.68  \n"
     ]
    }
   ],
   "source": [
    "import pandas as pd\n",
    "\n",
    "# Load the datasets\n",
    "customers = pd.read_csv(\"Customers.csv\")\n",
    "products = pd.read_csv(\"Products.csv\")\n",
    "transactions = pd.read_csv(\"Transactions.csv\")\n",
    "\n",
    "# Merge datasets\n",
    "transactions_with_customers = transactions.merge(customers, on=\"CustomerID\", how=\"inner\")\n",
    "transactions_with_products = transactions_with_customers.merge(products, on=\"ProductID\", how=\"inner\")\n",
    "\n",
    "# Display the merged dataset\n",
    "print(transactions_with_products.head())"
   ]
  },
  {
   "cell_type": "code",
   "execution_count": 2,
   "id": "5a19ae3b-fc95-4a71-ad82-e8d56a2d42a9",
   "metadata": {},
   "outputs": [
    {
     "name": "stdout",
     "output_type": "stream",
     "text": [
      "  CustomerID  total_value  avg_transaction_value  purchase_count  \\\n",
      "0      C0001      3354.52                670.904               5   \n",
      "1      C0002      1862.74                465.685               4   \n",
      "2      C0003      2725.38                681.345               4   \n",
      "3      C0004      5354.88                669.360               8   \n",
      "4      C0005      2034.24                678.080               3   \n",
      "\n",
      "   favorite_category_Clothing  favorite_category_Electronics  \\\n",
      "0                       False                           True   \n",
      "1                        True                          False   \n",
      "2                       False                          False   \n",
      "3                       False                          False   \n",
      "4                       False                           True   \n",
      "\n",
      "   favorite_category_Home Decor  \n",
      "0                         False  \n",
      "1                         False  \n",
      "2                          True  \n",
      "3                         False  \n",
      "4                         False  \n"
     ]
    }
   ],
   "source": [
    "# Total transaction value per customer\n",
    "customer_features = transactions_with_products.groupby('CustomerID').agg(\n",
    "    total_value=('TotalValue', 'sum'),\n",
    "    avg_transaction_value=('TotalValue', 'mean'),\n",
    "    purchase_count=('TransactionID', 'count'),\n",
    "    favorite_category=('Category', lambda x: x.mode()[0])\n",
    ").reset_index()\n",
    "\n",
    "# Encode categorical data (e.g., favorite_category)\n",
    "customer_features = pd.get_dummies(customer_features, columns=['favorite_category'], drop_first=True)\n",
    "\n",
    "print(customer_features.head())"
   ]
  },
  {
   "cell_type": "code",
   "execution_count": 3,
   "id": "9bf5b6ad-1af4-492f-a342-39a158889d04",
   "metadata": {},
   "outputs": [
    {
     "name": "stdout",
     "output_type": "stream",
     "text": [
      "CustomerID     C0001     C0002     C0003     C0004     C0005     C0006  \\\n",
      "CustomerID                                                               \n",
      "C0001       1.000000  0.237587  0.297523  0.551643  0.982007  0.543664   \n",
      "C0002       0.237587  1.000000  0.216776  0.407129  0.190187  0.389977   \n",
      "C0003       0.297523  0.216776  1.000000  0.487448  0.251260  0.519291   \n",
      "C0004       0.551643  0.407129  0.487448  1.000000  0.409711  0.853729   \n",
      "C0005       0.982007  0.190187  0.251260  0.409711  1.000000  0.480756   \n",
      "\n",
      "CustomerID     C0007     C0008     C0009     C0010  ...     C0191     C0192  \\\n",
      "CustomerID                                          ...                       \n",
      "C0001       0.976909  0.353000  0.147746  0.226100  ...  0.568638  0.988990   \n",
      "C0002       0.218185  0.268164  0.985878  0.999607  ...  0.418502  0.186913   \n",
      "C0003       0.293457  0.893175  0.133818  0.205083  ...  0.517680  0.233008   \n",
      "C0004       0.462965  0.683632  0.256351  0.391507  ...  0.978783  0.428656   \n",
      "C0005       0.993513  0.236600  0.116403  0.178616  ...  0.452679  0.989810   \n",
      "\n",
      "CustomerID     C0193     C0194     C0195     C0196     C0197     C0198  \\\n",
      "CustomerID                                                               \n",
      "C0001       0.560503  0.548410  0.349808  0.393640  0.981464  0.164769   \n",
      "C0002       0.406794  0.408015  0.256892  0.281017  0.184019  0.980417   \n",
      "C0003       0.526855  0.483484  0.984457  0.953428  0.242022  0.160532   \n",
      "C0004       0.908721  0.997471  0.610458  0.610036  0.397901  0.247728   \n",
      "C0005       0.478949  0.405333  0.273617  0.352832  0.999717  0.152108   \n",
      "\n",
      "CustomerID     C0199     C0200  \n",
      "CustomerID                      \n",
      "C0001       0.986803  0.380350  \n",
      "C0002       0.182163  0.942483  \n",
      "C0003       0.225886  0.355463  \n",
      "C0004       0.419233  0.623930  \n",
      "C0005       0.987846  0.320780  \n",
      "\n",
      "[5 rows x 199 columns]\n"
     ]
    }
   ],
   "source": [
    "from sklearn.metrics.pairwise import cosine_similarity\n",
    "import numpy as np\n",
    "\n",
    "# Normalize the feature values for better similarity calculation\n",
    "from sklearn.preprocessing import MinMaxScaler\n",
    "\n",
    "scaler = MinMaxScaler()\n",
    "normalized_features = scaler.fit_transform(customer_features.drop('CustomerID', axis=1))\n",
    "\n",
    "# Compute similarity matrix\n",
    "similarity_matrix = cosine_similarity(normalized_features)\n",
    "\n",
    "# Create a DataFrame for easy lookup\n",
    "similarity_df = pd.DataFrame(similarity_matrix, index=customer_features['CustomerID'], columns=customer_features['CustomerID'])\n",
    "print(similarity_df.head())"
   ]
  },
  {
   "cell_type": "code",
   "execution_count": 4,
   "id": "d6012e96-e148-441e-8d3e-11f86021c4bc",
   "metadata": {},
   "outputs": [
    {
     "name": "stdout",
     "output_type": "stream",
     "text": [
      "CustomerID\n",
      "C0072    0.998777\n",
      "C0190    0.998657\n",
      "C0048    0.997883\n",
      "Name: C0001, dtype: float64\n"
     ]
    }
   ],
   "source": [
    "def recommend_lookalikes(similarity_df, customer_id, top_n=3):\n",
    "    # Get similarity scores for the given customer\n",
    "    scores = similarity_df[customer_id].sort_values(ascending=False)\n",
    "    \n",
    "    # Exclude the customer itself\n",
    "    scores = scores[scores.index != customer_id]\n",
    "    \n",
    "    # Get the top N similar customers\n",
    "    return scores.head(top_n)\n",
    "\n",
    "# Example: Get recommendations for CustomerID 'C0001'\n",
    "recommended_customers = recommend_lookalikes(similarity_df, 'C0001', top_n=3)\n",
    "print(recommended_customers)"
   ]
  },
  {
   "cell_type": "code",
   "execution_count": 6,
   "id": "ef9b9491-f803-471d-9970-094c2a114288",
   "metadata": {},
   "outputs": [
    {
     "name": "stdout",
     "output_type": "stream",
     "text": [
      "Smruthika_B_J_Lookalike.csv created!\n"
     ]
    }
   ],
   "source": [
    "# Prepare lookalike recommendations for the first 20 customers\n",
    "lookalike_results = {}\n",
    "for customer_id in customer_features['CustomerID'][:20]:\n",
    "    recommendations = recommend_lookalikes(similarity_df, customer_id)\n",
    "    lookalike_results[customer_id] = recommendations.to_dict()\n",
    "\n",
    "# Convert results to a DataFrame\n",
    "lookalike_df = pd.DataFrame([\n",
    "    {'cust_id': customer_id, 'lookalikes': str(recommendations)}\n",
    "    for customer_id, recommendations in lookalike_results.items()\n",
    "])\n",
    "\n",
    "# Save to CSV\n",
    "lookalike_df.to_csv(\"Smruthika_B_J_Lookalike.csv\", index=False)\n",
    "print(\"Smruthika_B_J_Lookalike.csv created!\")\n"
   ]
  }
 ],
 "metadata": {
  "kernelspec": {
   "display_name": "Python 3 (ipykernel)",
   "language": "python",
   "name": "python3"
  },
  "language_info": {
   "codemirror_mode": {
    "name": "ipython",
    "version": 3
   },
   "file_extension": ".py",
   "mimetype": "text/x-python",
   "name": "python",
   "nbconvert_exporter": "python",
   "pygments_lexer": "ipython3",
   "version": "3.12.3"
  }
 },
 "nbformat": 4,
 "nbformat_minor": 5
}
